{
 "cells": [
  {
   "cell_type": "code",
   "execution_count": null,
   "id": "279bf16c",
   "metadata": {},
   "outputs": [
    {
     "name": "stdout",
     "output_type": "stream",
     "text": [
      "🧠🌌🕰️🧠🌌🕰️\n"
     ]
    }
   ],
   "source": [
    "from langchain.chat_models import ChatOpenAI\n",
    "from langchain.prompts import ChatPromptTemplate\n",
    "from langchain.prompts.chat import MessagesPlaceholder\n",
    "from langchain.prompts.few_shot import FewShotChatMessagePromptTemplate\n",
    "from langchain.callbacks import StreamingStdOutCallbackHandler\n",
    "from langchain.memory import ConversationSummaryBufferMemory\n",
    "from langchain.schema.runnable import RunnablePassthrough\n",
    "\n",
    "\n",
    "chat = ChatOpenAI(\n",
    "    model=\"gpt-3.5-turbo\",\n",
    "    temperature=0,\n",
    "    streaming=True,\n",
    "    callbacks=[\n",
    "        StreamingStdOutCallbackHandler(),\n",
    "    ],\n",
    ")\n",
    "\n",
    "memory = ConversationSummaryBufferMemory(\n",
    "    llm=chat,\n",
    "    max_token_limit=200,\n",
    "    memory_key=\"memory\",\n",
    "    return_messages=True,\n",
    ")\n",
    "\n",
    "\n",
    "examples = [\n",
    "    {\"movie\": \"Top Gun\", \"answer\": \"🛩️👨‍✈️🔥\"},\n",
    "    {\"movie\": \"The Dark Knight\", \"answer\": \"🦇👻🔫\"},\n",
    "    {\"movie\": \"The Matrix\", \"answer\": \"🔮👾💻\"},\n",
    "]\n",
    "\n",
    "example_prompt = ChatPromptTemplate.from_messages(\n",
    "    [\n",
    "        (\"human\", \"Summarize the movie '{movie}' in 3 emojis.\"),\n",
    "        (\"ai\", \"{answer}\"),\n",
    "    ]\n",
    ")\n",
    "\n",
    "example_prompt = FewShotChatMessagePromptTemplate(\n",
    "    examples=examples,\n",
    "    example_prompt=example_prompt,\n",
    ")\n",
    "\n",
    "final_prompt = ChatPromptTemplate.from_messages(\n",
    "    [\n",
    "        (\n",
    "            \"system\",\n",
    "            \"You are a helpful assistant that can answer questions about movies.\",\n",
    "        ),\n",
    "        example_prompt,\n",
    "        MessagesPlaceholder(variable_name=\"memory\"),\n",
    "        (\"human\", \"Summarize the movie '{movie}' in 3 emojis.\"),\n",
    "    ]\n",
    ")\n",
    "\n",
    "\n",
    "def load_memory(_):\n",
    "    return memory.load_memory_variables({})[\"memory\"]\n",
    "\n",
    "\n",
    "chain = RunnablePassthrough.assign(memory=load_memory) | final_prompt | chat\n",
    "\n",
    "\n",
    "def invoke_chain(question):\n",
    "    result = chain.invoke({\"movie\": question})\n",
    "    memory.save_context({\"input\": question}, {\"output\": result.content})\n",
    "\n",
    "\n",
    "invoke_chain(\"Inception\")"
   ]
  },
  {
   "cell_type": "code",
   "execution_count": 14,
   "id": "9173e5cc",
   "metadata": {},
   "outputs": [
    {
     "name": "stdout",
     "output_type": "stream",
     "text": [
      "🦇🤡🃏🦇🤡🃏\n"
     ]
    }
   ],
   "source": [
    "invoke_chain(\"The Dark Knight\")"
   ]
  },
  {
   "cell_type": "code",
   "execution_count": null,
   "id": "08079cc4",
   "metadata": {},
   "outputs": [],
   "source": []
  }
 ],
 "metadata": {
  "kernelspec": {
   "display_name": "env",
   "language": "python",
   "name": "python3"
  },
  "language_info": {
   "codemirror_mode": {
    "name": "ipython",
    "version": 3
   },
   "file_extension": ".py",
   "mimetype": "text/x-python",
   "name": "python",
   "nbconvert_exporter": "python",
   "pygments_lexer": "ipython3",
   "version": "3.11.0"
  }
 },
 "nbformat": 4,
 "nbformat_minor": 5
}
