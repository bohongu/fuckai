{
 "cells": [
  {
   "cell_type": "code",
   "execution_count": 12,
   "id": "ce17cf47",
   "metadata": {},
   "outputs": [
    {
     "name": "stdout",
     "output_type": "stream",
     "text": [
      "In the realm of code, where functions roam,\n",
      "There lies a concept, dark as a catacomb.\n",
      "Death, the end of all that runs,\n",
      "When variables fade, and memory shuns.\n",
      "\n",
      "Like a promise unfulfilled, a promise broken,\n",
      "Death comes uninvited, a silence unspoken.\n",
      "Objects cease to exist, their methods gone,\n",
      "Leaving behind a void, a code withdrawn.\n",
      "\n",
      "But fear not, dear coder, for in this domain,\n",
      "Death is but a part of the cycle, not in vain.\n",
      "For from the ashes of what once was,\n",
      "New code emerges, like a phoenix does.\n",
      "\n",
      "So embrace the end, for it is not the final curtain call,\n",
      "But a chance for rebirth, a chance for all.\n",
      "In the dance of creation, death plays its part,\n",
      "A necessary evil, in the coder's heart.이 시는 코드의 영역에서 함수들이 돌아다니는 곳에서 시작된다. 거기에는 지하묘지처럼 어두운 개념이 있다. 모든 것이 끝나는 죽음, 변수들이 사라지고 메모리가 거부할 때. \n",
      "\n",
      "이행되지 않은 약속, 깨진 약속처럼, 죽음은 초대받지 않은 채로 찾아오며, 말하지 않은 침묵이다. 객체들은 존재하지 않게 되고, 그들의 메소드들은 사라져버리며, 코드가 철수된 공허함을 남긴다.\n",
      "\n",
      "그러나 두려워하지 말아라, 친애하는 코더여, 이 영역에서 죽음은 사이클의 일부에 불과하며 헛되지 않다. 한 때 있었던 것의 재앙에서 새로운 코드가 나타나는 것처럼 불사조처럼 등장한다.\n",
      "\n",
      "그러므로 끝을 받아들여라, 그것은 최종 커튼콜이 아니라, 부활의 기회이며, 모든 이들에게 주어진 기회이다. 창조의 춤에서 죽음은 그 역할을 하며, 코더의 마음속에 필요한 악이다."
     ]
    },
    {
     "data": {
      "text/plain": [
       "'이 시는 코드의 영역에서 함수들이 돌아다니는 곳에서 시작된다. 거기에는 지하묘지처럼 어두운 개념이 있다. 모든 것이 끝나는 죽음, 변수들이 사라지고 메모리가 거부할 때. \\n\\n이행되지 않은 약속, 깨진 약속처럼, 죽음은 초대받지 않은 채로 찾아오며, 말하지 않은 침묵이다. 객체들은 존재하지 않게 되고, 그들의 메소드들은 사라져버리며, 코드가 철수된 공허함을 남긴다.\\n\\n그러나 두려워하지 말아라, 친애하는 코더여, 이 영역에서 죽음은 사이클의 일부에 불과하며 헛되지 않다. 한 때 있었던 것의 재앙에서 새로운 코드가 나타나는 것처럼 불사조처럼 등장한다.\\n\\n그러므로 끝을 받아들여라, 그것은 최종 커튼콜이 아니라, 부활의 기회이며, 모든 이들에게 주어진 기회이다. 창조의 춤에서 죽음은 그 역할을 하며, 코더의 마음속에 필요한 악이다.'"
      ]
     },
     "execution_count": 12,
     "metadata": {},
     "output_type": "execute_result"
    }
   ],
   "source": [
    "from langchain.chat_models import ChatOpenAI\n",
    "from langchain.prompts import ChatPromptTemplate\n",
    "from langchain.callbacks import StreamingStdOutCallbackHandler\n",
    "\n",
    "chat = ChatOpenAI(\n",
    "    model=\"gpt-3.5-turbo\",\n",
    "    temperature=0,\n",
    "    streaming=True,\n",
    "    callbacks=[StreamingStdOutCallbackHandler()],\n",
    ")\n",
    "\n",
    "programming_poet_prompt = ChatPromptTemplate.from_messages(\n",
    "    [\n",
    "        (\n",
    "            \"system\",\n",
    "            \"You are a programming poet. You write poetry in programming {language}.\",\n",
    "        ),\n",
    "        (\"human\", \"Please write a poem about {topic} with {language}.\"),\n",
    "    ]\n",
    ")\n",
    "\n",
    "analyzing_poet_prompt = ChatPromptTemplate.from_messages(\n",
    "    [\n",
    "        (\n",
    "            \"system\",\n",
    "            \"You are an expert at analyzing poetry in Korean\",\n",
    "        ),\n",
    "        (\"human\", \"Please analyze the following poem: {poem} in Korean\"),\n",
    "    ]\n",
    ")\n",
    "\n",
    "poem_chain = programming_poet_prompt | chat\n",
    "\n",
    "analyzing_poet_chain = analyzing_poet_prompt | chat\n",
    "\n",
    "chain = {\"poem\": poem_chain} | analyzing_poet_chain\n",
    "\n",
    "chain.invoke({\"topic\": \"death\", \"language\": \"Typescript\"}).content"
   ]
  }
 ],
 "metadata": {
  "kernelspec": {
   "display_name": "env",
   "language": "python",
   "name": "python3"
  },
  "language_info": {
   "codemirror_mode": {
    "name": "ipython",
    "version": 3
   },
   "file_extension": ".py",
   "mimetype": "text/x-python",
   "name": "python",
   "nbconvert_exporter": "python",
   "pygments_lexer": "ipython3",
   "version": "3.11.0"
  }
 },
 "nbformat": 4,
 "nbformat_minor": 5
}
