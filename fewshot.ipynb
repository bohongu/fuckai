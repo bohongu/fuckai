{
 "cells": [
  {
   "cell_type": "code",
   "execution_count": 8,
   "id": "a0b86465",
   "metadata": {},
   "outputs": [
    {
     "name": "stdout",
     "output_type": "stream",
     "text": [
      "'Inception' is a mind-bending science fiction thriller directed by Christopher Nolan. The film stars Leonardo DiCaprio as a skilled thief who enters the dreams of others to steal their secrets. However, instead of stealing information, he is tasked with planting an idea in someone's mind through the process of \"inception.\" The movie explores the concept of dreams within dreams and blurs the lines between reality and the subconscious. With stunning visual effects and a complex narrative, 'Inception' challenges viewers to question what is real and what is a dream."
     ]
    },
    {
     "data": {
      "text/plain": [
       "AIMessageChunk(content='\\'Inception\\' is a mind-bending science fiction thriller directed by Christopher Nolan. The film stars Leonardo DiCaprio as a skilled thief who enters the dreams of others to steal their secrets. However, instead of stealing information, he is tasked with planting an idea in someone\\'s mind through the process of \"inception.\" The movie explores the concept of dreams within dreams and blurs the lines between reality and the subconscious. With stunning visual effects and a complex narrative, \\'Inception\\' challenges viewers to question what is real and what is a dream.')"
      ]
     },
     "execution_count": 8,
     "metadata": {},
     "output_type": "execute_result"
    }
   ],
   "source": [
    "from langchain.chat_models import ChatOpenAI\n",
    "from langchain.prompts.few_shot import FewShotChatMessagePromptTemplate\n",
    "from langchain.prompts import ChatPromptTemplate\n",
    "from langchain.callbacks import StreamingStdOutCallbackHandler\n",
    "\n",
    "\n",
    "chat = ChatOpenAI(\n",
    "    model=\"gpt-3.5-turbo\",\n",
    "    temperature=0,\n",
    "    streaming=True,\n",
    "    callbacks=[\n",
    "        StreamingStdOutCallbackHandler(),\n",
    "    ],\n",
    ")\n",
    "\n",
    "examples = [\n",
    "    {\n",
    "        \"movie\": \"The Dark Knight\",\n",
    "        \"answer\": \"\"\"\n",
    "        This is My Favorite Movie.\n",
    "        director: Christopher Nolan,\n",
    "        actors: Christian Bale, Heath Ledger, Aaron Eckhart, Michael Caine, Maggie Gyllenhaal, Gary Oldman, Morgan Freeman,\n",
    "        budget: $185 million,\n",
    "        box office: $1,004,567,303,\n",
    "        genre: Action, Crime, Drama,\n",
    "        \"\"\",\n",
    "    },\n",
    "    {\n",
    "        \"movie\": \"Avengers\",\n",
    "        \"answer\": \"\"\"\n",
    "        This is My Favorite Movie.\n",
    "        director: Anthony Russo, Joe Russo,\n",
    "        actors: Robert Downey Jr., Chris Evans, Mark Ruffalo, Chris Hemsworth, Scarlett Johansson, Jeremy Renner, Don Cheadle, Paul Rudd, Brie Larson, Karen Gillan, Danai Gurira, Benedict Cumberbatch, Jon Favreau, Tom Holland, Zendaya, Anthony Mackie, Sebastian Stan, Donnie Yen, Michelle Pfeiffer, Gwyneth Paltrow, and many more,\n",
    "        budget: $356 million,\n",
    "        box office: $2,797,800,564,\n",
    "        genre: Action, Adventure, Drama, Sci-Fi,\n",
    "        \"\"\",\n",
    "    },\n",
    "]\n",
    "\n",
    "example_prompt = ChatPromptTemplate.from_messages(\n",
    "    [\n",
    "        (\"human\", \"Please explain the movie '{movie}' to me.\"),\n",
    "        (\"ai\", \"{answer}\"),\n",
    "    ]\n",
    ")\n",
    "\n",
    "example_prompt = FewShotChatMessagePromptTemplate(\n",
    "    examples=examples,\n",
    "    example_prompt=example_prompt,\n",
    ")\n",
    "\n",
    "final_prompt = ChatPromptTemplate.from_messages(\n",
    "    [\n",
    "        (\n",
    "            \"system\",\n",
    "            \"You are a helpful assistant that can answer questions about movies.\",\n",
    "        ),\n",
    "        example_prompt,\n",
    "        (\"human\", \"Please explain the movie '{movie}' to me.\"),\n",
    "    ]\n",
    ")\n",
    "\n",
    "chain = final_prompt | chat\n",
    "\n",
    "chain.invoke({\"movie\": \"Inception\"})"
   ]
  }
 ],
 "metadata": {
  "kernelspec": {
   "display_name": "env",
   "language": "python",
   "name": "python3"
  },
  "language_info": {
   "codemirror_mode": {
    "name": "ipython",
    "version": 3
   },
   "file_extension": ".py",
   "mimetype": "text/x-python",
   "name": "python",
   "nbconvert_exporter": "python",
   "pygments_lexer": "ipython3",
   "version": "3.11.0"
  }
 },
 "nbformat": 4,
 "nbformat_minor": 5
}
